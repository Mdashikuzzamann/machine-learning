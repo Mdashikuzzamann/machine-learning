{
  "nbformat": 4,
  "nbformat_minor": 0,
  "metadata": {
    "colab": {
      "name": "Labevalution5.ipynb",
      "provenance": []
    },
    "kernelspec": {
      "name": "python3",
      "display_name": "Python 3"
    },
    "language_info": {
      "name": "python"
    }
  },
  "cells": [
    {
      "cell_type": "code",
      "execution_count": 10,
      "metadata": {
        "id": "3SVvZrrkS8q7"
      },
      "outputs": [],
      "source": [
        "import numpy as np \n",
        "import pandas as pd\n",
        "import matplotlib.pyplot as plt"
      ]
    },
    {
      "cell_type": "code",
      "source": [
        "df = pd.read_csv('/content/drive/MyDrive/Dataset/FuelConsumption.csv')"
      ],
      "metadata": {
        "id": "q80WeZYGal3B"
      },
      "execution_count": 11,
      "outputs": []
    },
    {
      "cell_type": "markdown",
      "source": [
        "preprocess"
      ],
      "metadata": {
        "id": "eINxPAtTK8my"
      }
    },
    {
      "cell_type": "code",
      "source": [
        "df.head(5)"
      ],
      "metadata": {
        "colab": {
          "base_uri": "https://localhost:8080/",
          "height": 322
        },
        "id": "Pr5Z9jBIav9K",
        "outputId": "946802be-5203-46ae-c338-41e3c096a17f"
      },
      "execution_count": 12,
      "outputs": [
        {
          "output_type": "execute_result",
          "data": {
            "text/plain": [
              "   MODELYEAR   MAKE       MODEL VEHICLECLASS  ENGINESIZE  CYLINDERS  \\\n",
              "0       2014  ACURA         ILX      COMPACT         2.0          4   \n",
              "1       2014  ACURA         ILX      COMPACT         2.4          4   \n",
              "2       2014  ACURA  ILX HYBRID      COMPACT         1.5          4   \n",
              "3       2014  ACURA     MDX 4WD  SUV - SMALL         3.5          6   \n",
              "4       2014  ACURA     RDX AWD  SUV - SMALL         3.5          6   \n",
              "\n",
              "  TRANSMISSION FUELTYPE  FUELCONSUMPTION_CITY  FUELCONSUMPTION_HWY  \\\n",
              "0          AS5        Z                   9.9                  6.7   \n",
              "1           M6        Z                  11.2                  7.7   \n",
              "2          AV7        Z                   6.0                  5.8   \n",
              "3          AS6        Z                  12.7                  9.1   \n",
              "4          AS6        Z                  12.1                  8.7   \n",
              "\n",
              "   FUELCONSUMPTION_COMB  FUELCONSUMPTION_COMB_MPG  CO2EMISSIONS  \n",
              "0                   8.5                        33           196  \n",
              "1                   9.6                        29           221  \n",
              "2                   5.9                        48           136  \n",
              "3                  11.1                        25           255  \n",
              "4                  10.6                        27           244  "
            ],
            "text/html": [
              "\n",
              "  <div id=\"df-54dd2078-86ed-4696-8454-e8c8d65af38b\">\n",
              "    <div class=\"colab-df-container\">\n",
              "      <div>\n",
              "<style scoped>\n",
              "    .dataframe tbody tr th:only-of-type {\n",
              "        vertical-align: middle;\n",
              "    }\n",
              "\n",
              "    .dataframe tbody tr th {\n",
              "        vertical-align: top;\n",
              "    }\n",
              "\n",
              "    .dataframe thead th {\n",
              "        text-align: right;\n",
              "    }\n",
              "</style>\n",
              "<table border=\"1\" class=\"dataframe\">\n",
              "  <thead>\n",
              "    <tr style=\"text-align: right;\">\n",
              "      <th></th>\n",
              "      <th>MODELYEAR</th>\n",
              "      <th>MAKE</th>\n",
              "      <th>MODEL</th>\n",
              "      <th>VEHICLECLASS</th>\n",
              "      <th>ENGINESIZE</th>\n",
              "      <th>CYLINDERS</th>\n",
              "      <th>TRANSMISSION</th>\n",
              "      <th>FUELTYPE</th>\n",
              "      <th>FUELCONSUMPTION_CITY</th>\n",
              "      <th>FUELCONSUMPTION_HWY</th>\n",
              "      <th>FUELCONSUMPTION_COMB</th>\n",
              "      <th>FUELCONSUMPTION_COMB_MPG</th>\n",
              "      <th>CO2EMISSIONS</th>\n",
              "    </tr>\n",
              "  </thead>\n",
              "  <tbody>\n",
              "    <tr>\n",
              "      <th>0</th>\n",
              "      <td>2014</td>\n",
              "      <td>ACURA</td>\n",
              "      <td>ILX</td>\n",
              "      <td>COMPACT</td>\n",
              "      <td>2.0</td>\n",
              "      <td>4</td>\n",
              "      <td>AS5</td>\n",
              "      <td>Z</td>\n",
              "      <td>9.9</td>\n",
              "      <td>6.7</td>\n",
              "      <td>8.5</td>\n",
              "      <td>33</td>\n",
              "      <td>196</td>\n",
              "    </tr>\n",
              "    <tr>\n",
              "      <th>1</th>\n",
              "      <td>2014</td>\n",
              "      <td>ACURA</td>\n",
              "      <td>ILX</td>\n",
              "      <td>COMPACT</td>\n",
              "      <td>2.4</td>\n",
              "      <td>4</td>\n",
              "      <td>M6</td>\n",
              "      <td>Z</td>\n",
              "      <td>11.2</td>\n",
              "      <td>7.7</td>\n",
              "      <td>9.6</td>\n",
              "      <td>29</td>\n",
              "      <td>221</td>\n",
              "    </tr>\n",
              "    <tr>\n",
              "      <th>2</th>\n",
              "      <td>2014</td>\n",
              "      <td>ACURA</td>\n",
              "      <td>ILX HYBRID</td>\n",
              "      <td>COMPACT</td>\n",
              "      <td>1.5</td>\n",
              "      <td>4</td>\n",
              "      <td>AV7</td>\n",
              "      <td>Z</td>\n",
              "      <td>6.0</td>\n",
              "      <td>5.8</td>\n",
              "      <td>5.9</td>\n",
              "      <td>48</td>\n",
              "      <td>136</td>\n",
              "    </tr>\n",
              "    <tr>\n",
              "      <th>3</th>\n",
              "      <td>2014</td>\n",
              "      <td>ACURA</td>\n",
              "      <td>MDX 4WD</td>\n",
              "      <td>SUV - SMALL</td>\n",
              "      <td>3.5</td>\n",
              "      <td>6</td>\n",
              "      <td>AS6</td>\n",
              "      <td>Z</td>\n",
              "      <td>12.7</td>\n",
              "      <td>9.1</td>\n",
              "      <td>11.1</td>\n",
              "      <td>25</td>\n",
              "      <td>255</td>\n",
              "    </tr>\n",
              "    <tr>\n",
              "      <th>4</th>\n",
              "      <td>2014</td>\n",
              "      <td>ACURA</td>\n",
              "      <td>RDX AWD</td>\n",
              "      <td>SUV - SMALL</td>\n",
              "      <td>3.5</td>\n",
              "      <td>6</td>\n",
              "      <td>AS6</td>\n",
              "      <td>Z</td>\n",
              "      <td>12.1</td>\n",
              "      <td>8.7</td>\n",
              "      <td>10.6</td>\n",
              "      <td>27</td>\n",
              "      <td>244</td>\n",
              "    </tr>\n",
              "  </tbody>\n",
              "</table>\n",
              "</div>\n",
              "      <button class=\"colab-df-convert\" onclick=\"convertToInteractive('df-54dd2078-86ed-4696-8454-e8c8d65af38b')\"\n",
              "              title=\"Convert this dataframe to an interactive table.\"\n",
              "              style=\"display:none;\">\n",
              "        \n",
              "  <svg xmlns=\"http://www.w3.org/2000/svg\" height=\"24px\"viewBox=\"0 0 24 24\"\n",
              "       width=\"24px\">\n",
              "    <path d=\"M0 0h24v24H0V0z\" fill=\"none\"/>\n",
              "    <path d=\"M18.56 5.44l.94 2.06.94-2.06 2.06-.94-2.06-.94-.94-2.06-.94 2.06-2.06.94zm-11 1L8.5 8.5l.94-2.06 2.06-.94-2.06-.94L8.5 2.5l-.94 2.06-2.06.94zm10 10l.94 2.06.94-2.06 2.06-.94-2.06-.94-.94-2.06-.94 2.06-2.06.94z\"/><path d=\"M17.41 7.96l-1.37-1.37c-.4-.4-.92-.59-1.43-.59-.52 0-1.04.2-1.43.59L10.3 9.45l-7.72 7.72c-.78.78-.78 2.05 0 2.83L4 21.41c.39.39.9.59 1.41.59.51 0 1.02-.2 1.41-.59l7.78-7.78 2.81-2.81c.8-.78.8-2.07 0-2.86zM5.41 20L4 18.59l7.72-7.72 1.47 1.35L5.41 20z\"/>\n",
              "  </svg>\n",
              "      </button>\n",
              "      \n",
              "  <style>\n",
              "    .colab-df-container {\n",
              "      display:flex;\n",
              "      flex-wrap:wrap;\n",
              "      gap: 12px;\n",
              "    }\n",
              "\n",
              "    .colab-df-convert {\n",
              "      background-color: #E8F0FE;\n",
              "      border: none;\n",
              "      border-radius: 50%;\n",
              "      cursor: pointer;\n",
              "      display: none;\n",
              "      fill: #1967D2;\n",
              "      height: 32px;\n",
              "      padding: 0 0 0 0;\n",
              "      width: 32px;\n",
              "    }\n",
              "\n",
              "    .colab-df-convert:hover {\n",
              "      background-color: #E2EBFA;\n",
              "      box-shadow: 0px 1px 2px rgba(60, 64, 67, 0.3), 0px 1px 3px 1px rgba(60, 64, 67, 0.15);\n",
              "      fill: #174EA6;\n",
              "    }\n",
              "\n",
              "    [theme=dark] .colab-df-convert {\n",
              "      background-color: #3B4455;\n",
              "      fill: #D2E3FC;\n",
              "    }\n",
              "\n",
              "    [theme=dark] .colab-df-convert:hover {\n",
              "      background-color: #434B5C;\n",
              "      box-shadow: 0px 1px 3px 1px rgba(0, 0, 0, 0.15);\n",
              "      filter: drop-shadow(0px 1px 2px rgba(0, 0, 0, 0.3));\n",
              "      fill: #FFFFFF;\n",
              "    }\n",
              "  </style>\n",
              "\n",
              "      <script>\n",
              "        const buttonEl =\n",
              "          document.querySelector('#df-54dd2078-86ed-4696-8454-e8c8d65af38b button.colab-df-convert');\n",
              "        buttonEl.style.display =\n",
              "          google.colab.kernel.accessAllowed ? 'block' : 'none';\n",
              "\n",
              "        async function convertToInteractive(key) {\n",
              "          const element = document.querySelector('#df-54dd2078-86ed-4696-8454-e8c8d65af38b');\n",
              "          const dataTable =\n",
              "            await google.colab.kernel.invokeFunction('convertToInteractive',\n",
              "                                                     [key], {});\n",
              "          if (!dataTable) return;\n",
              "\n",
              "          const docLinkHtml = 'Like what you see? Visit the ' +\n",
              "            '<a target=\"_blank\" href=https://colab.research.google.com/notebooks/data_table.ipynb>data table notebook</a>'\n",
              "            + ' to learn more about interactive tables.';\n",
              "          element.innerHTML = '';\n",
              "          dataTable['output_type'] = 'display_data';\n",
              "          await google.colab.output.renderOutput(dataTable, element);\n",
              "          const docLink = document.createElement('div');\n",
              "          docLink.innerHTML = docLinkHtml;\n",
              "          element.appendChild(docLink);\n",
              "        }\n",
              "      </script>\n",
              "    </div>\n",
              "  </div>\n",
              "  "
            ]
          },
          "metadata": {},
          "execution_count": 12
        }
      ]
    },
    {
      "cell_type": "code",
      "source": [
        "df.tail()"
      ],
      "metadata": {
        "colab": {
          "base_uri": "https://localhost:8080/",
          "height": 357
        },
        "id": "xkULdGd9KFOT",
        "outputId": "640a1bce-d667-49df-8bce-7a10992877d1"
      },
      "execution_count": 13,
      "outputs": [
        {
          "output_type": "execute_result",
          "data": {
            "text/plain": [
              "      MODELYEAR   MAKE     MODEL    VEHICLECLASS  ENGINESIZE  CYLINDERS  \\\n",
              "1062       2014  VOLVO  XC60 AWD     SUV - SMALL         3.0          6   \n",
              "1063       2014  VOLVO  XC60 AWD     SUV - SMALL         3.2          6   \n",
              "1064       2014  VOLVO  XC70 AWD     SUV - SMALL         3.0          6   \n",
              "1065       2014  VOLVO  XC70 AWD     SUV - SMALL         3.2          6   \n",
              "1066       2014  VOLVO  XC90 AWD  SUV - STANDARD         3.2          6   \n",
              "\n",
              "     TRANSMISSION FUELTYPE  FUELCONSUMPTION_CITY  FUELCONSUMPTION_HWY  \\\n",
              "1062          AS6        X                  13.4                  9.8   \n",
              "1063          AS6        X                  13.2                  9.5   \n",
              "1064          AS6        X                  13.4                  9.8   \n",
              "1065          AS6        X                  12.9                  9.3   \n",
              "1066          AS6        X                  14.9                 10.2   \n",
              "\n",
              "      FUELCONSUMPTION_COMB  FUELCONSUMPTION_COMB_MPG  CO2EMISSIONS  \n",
              "1062                  11.8                        24           271  \n",
              "1063                  11.5                        25           264  \n",
              "1064                  11.8                        24           271  \n",
              "1065                  11.3                        25           260  \n",
              "1066                  12.8                        22           294  "
            ],
            "text/html": [
              "\n",
              "  <div id=\"df-9ebbfb98-1063-4a9d-9b19-f53da0f9b306\">\n",
              "    <div class=\"colab-df-container\">\n",
              "      <div>\n",
              "<style scoped>\n",
              "    .dataframe tbody tr th:only-of-type {\n",
              "        vertical-align: middle;\n",
              "    }\n",
              "\n",
              "    .dataframe tbody tr th {\n",
              "        vertical-align: top;\n",
              "    }\n",
              "\n",
              "    .dataframe thead th {\n",
              "        text-align: right;\n",
              "    }\n",
              "</style>\n",
              "<table border=\"1\" class=\"dataframe\">\n",
              "  <thead>\n",
              "    <tr style=\"text-align: right;\">\n",
              "      <th></th>\n",
              "      <th>MODELYEAR</th>\n",
              "      <th>MAKE</th>\n",
              "      <th>MODEL</th>\n",
              "      <th>VEHICLECLASS</th>\n",
              "      <th>ENGINESIZE</th>\n",
              "      <th>CYLINDERS</th>\n",
              "      <th>TRANSMISSION</th>\n",
              "      <th>FUELTYPE</th>\n",
              "      <th>FUELCONSUMPTION_CITY</th>\n",
              "      <th>FUELCONSUMPTION_HWY</th>\n",
              "      <th>FUELCONSUMPTION_COMB</th>\n",
              "      <th>FUELCONSUMPTION_COMB_MPG</th>\n",
              "      <th>CO2EMISSIONS</th>\n",
              "    </tr>\n",
              "  </thead>\n",
              "  <tbody>\n",
              "    <tr>\n",
              "      <th>1062</th>\n",
              "      <td>2014</td>\n",
              "      <td>VOLVO</td>\n",
              "      <td>XC60 AWD</td>\n",
              "      <td>SUV - SMALL</td>\n",
              "      <td>3.0</td>\n",
              "      <td>6</td>\n",
              "      <td>AS6</td>\n",
              "      <td>X</td>\n",
              "      <td>13.4</td>\n",
              "      <td>9.8</td>\n",
              "      <td>11.8</td>\n",
              "      <td>24</td>\n",
              "      <td>271</td>\n",
              "    </tr>\n",
              "    <tr>\n",
              "      <th>1063</th>\n",
              "      <td>2014</td>\n",
              "      <td>VOLVO</td>\n",
              "      <td>XC60 AWD</td>\n",
              "      <td>SUV - SMALL</td>\n",
              "      <td>3.2</td>\n",
              "      <td>6</td>\n",
              "      <td>AS6</td>\n",
              "      <td>X</td>\n",
              "      <td>13.2</td>\n",
              "      <td>9.5</td>\n",
              "      <td>11.5</td>\n",
              "      <td>25</td>\n",
              "      <td>264</td>\n",
              "    </tr>\n",
              "    <tr>\n",
              "      <th>1064</th>\n",
              "      <td>2014</td>\n",
              "      <td>VOLVO</td>\n",
              "      <td>XC70 AWD</td>\n",
              "      <td>SUV - SMALL</td>\n",
              "      <td>3.0</td>\n",
              "      <td>6</td>\n",
              "      <td>AS6</td>\n",
              "      <td>X</td>\n",
              "      <td>13.4</td>\n",
              "      <td>9.8</td>\n",
              "      <td>11.8</td>\n",
              "      <td>24</td>\n",
              "      <td>271</td>\n",
              "    </tr>\n",
              "    <tr>\n",
              "      <th>1065</th>\n",
              "      <td>2014</td>\n",
              "      <td>VOLVO</td>\n",
              "      <td>XC70 AWD</td>\n",
              "      <td>SUV - SMALL</td>\n",
              "      <td>3.2</td>\n",
              "      <td>6</td>\n",
              "      <td>AS6</td>\n",
              "      <td>X</td>\n",
              "      <td>12.9</td>\n",
              "      <td>9.3</td>\n",
              "      <td>11.3</td>\n",
              "      <td>25</td>\n",
              "      <td>260</td>\n",
              "    </tr>\n",
              "    <tr>\n",
              "      <th>1066</th>\n",
              "      <td>2014</td>\n",
              "      <td>VOLVO</td>\n",
              "      <td>XC90 AWD</td>\n",
              "      <td>SUV - STANDARD</td>\n",
              "      <td>3.2</td>\n",
              "      <td>6</td>\n",
              "      <td>AS6</td>\n",
              "      <td>X</td>\n",
              "      <td>14.9</td>\n",
              "      <td>10.2</td>\n",
              "      <td>12.8</td>\n",
              "      <td>22</td>\n",
              "      <td>294</td>\n",
              "    </tr>\n",
              "  </tbody>\n",
              "</table>\n",
              "</div>\n",
              "      <button class=\"colab-df-convert\" onclick=\"convertToInteractive('df-9ebbfb98-1063-4a9d-9b19-f53da0f9b306')\"\n",
              "              title=\"Convert this dataframe to an interactive table.\"\n",
              "              style=\"display:none;\">\n",
              "        \n",
              "  <svg xmlns=\"http://www.w3.org/2000/svg\" height=\"24px\"viewBox=\"0 0 24 24\"\n",
              "       width=\"24px\">\n",
              "    <path d=\"M0 0h24v24H0V0z\" fill=\"none\"/>\n",
              "    <path d=\"M18.56 5.44l.94 2.06.94-2.06 2.06-.94-2.06-.94-.94-2.06-.94 2.06-2.06.94zm-11 1L8.5 8.5l.94-2.06 2.06-.94-2.06-.94L8.5 2.5l-.94 2.06-2.06.94zm10 10l.94 2.06.94-2.06 2.06-.94-2.06-.94-.94-2.06-.94 2.06-2.06.94z\"/><path d=\"M17.41 7.96l-1.37-1.37c-.4-.4-.92-.59-1.43-.59-.52 0-1.04.2-1.43.59L10.3 9.45l-7.72 7.72c-.78.78-.78 2.05 0 2.83L4 21.41c.39.39.9.59 1.41.59.51 0 1.02-.2 1.41-.59l7.78-7.78 2.81-2.81c.8-.78.8-2.07 0-2.86zM5.41 20L4 18.59l7.72-7.72 1.47 1.35L5.41 20z\"/>\n",
              "  </svg>\n",
              "      </button>\n",
              "      \n",
              "  <style>\n",
              "    .colab-df-container {\n",
              "      display:flex;\n",
              "      flex-wrap:wrap;\n",
              "      gap: 12px;\n",
              "    }\n",
              "\n",
              "    .colab-df-convert {\n",
              "      background-color: #E8F0FE;\n",
              "      border: none;\n",
              "      border-radius: 50%;\n",
              "      cursor: pointer;\n",
              "      display: none;\n",
              "      fill: #1967D2;\n",
              "      height: 32px;\n",
              "      padding: 0 0 0 0;\n",
              "      width: 32px;\n",
              "    }\n",
              "\n",
              "    .colab-df-convert:hover {\n",
              "      background-color: #E2EBFA;\n",
              "      box-shadow: 0px 1px 2px rgba(60, 64, 67, 0.3), 0px 1px 3px 1px rgba(60, 64, 67, 0.15);\n",
              "      fill: #174EA6;\n",
              "    }\n",
              "\n",
              "    [theme=dark] .colab-df-convert {\n",
              "      background-color: #3B4455;\n",
              "      fill: #D2E3FC;\n",
              "    }\n",
              "\n",
              "    [theme=dark] .colab-df-convert:hover {\n",
              "      background-color: #434B5C;\n",
              "      box-shadow: 0px 1px 3px 1px rgba(0, 0, 0, 0.15);\n",
              "      filter: drop-shadow(0px 1px 2px rgba(0, 0, 0, 0.3));\n",
              "      fill: #FFFFFF;\n",
              "    }\n",
              "  </style>\n",
              "\n",
              "      <script>\n",
              "        const buttonEl =\n",
              "          document.querySelector('#df-9ebbfb98-1063-4a9d-9b19-f53da0f9b306 button.colab-df-convert');\n",
              "        buttonEl.style.display =\n",
              "          google.colab.kernel.accessAllowed ? 'block' : 'none';\n",
              "\n",
              "        async function convertToInteractive(key) {\n",
              "          const element = document.querySelector('#df-9ebbfb98-1063-4a9d-9b19-f53da0f9b306');\n",
              "          const dataTable =\n",
              "            await google.colab.kernel.invokeFunction('convertToInteractive',\n",
              "                                                     [key], {});\n",
              "          if (!dataTable) return;\n",
              "\n",
              "          const docLinkHtml = 'Like what you see? Visit the ' +\n",
              "            '<a target=\"_blank\" href=https://colab.research.google.com/notebooks/data_table.ipynb>data table notebook</a>'\n",
              "            + ' to learn more about interactive tables.';\n",
              "          element.innerHTML = '';\n",
              "          dataTable['output_type'] = 'display_data';\n",
              "          await google.colab.output.renderOutput(dataTable, element);\n",
              "          const docLink = document.createElement('div');\n",
              "          docLink.innerHTML = docLinkHtml;\n",
              "          element.appendChild(docLink);\n",
              "        }\n",
              "      </script>\n",
              "    </div>\n",
              "  </div>\n",
              "  "
            ]
          },
          "metadata": {},
          "execution_count": 13
        }
      ]
    },
    {
      "cell_type": "code",
      "source": [
        "df.shape"
      ],
      "metadata": {
        "colab": {
          "base_uri": "https://localhost:8080/"
        },
        "id": "18-usGcha5lq",
        "outputId": "4c1c0da1-dd52-418d-b82b-5183bc943ece"
      },
      "execution_count": 14,
      "outputs": [
        {
          "output_type": "execute_result",
          "data": {
            "text/plain": [
              "(1067, 13)"
            ]
          },
          "metadata": {},
          "execution_count": 14
        }
      ]
    },
    {
      "cell_type": "code",
      "source": [
        "df.isnull().sum()"
      ],
      "metadata": {
        "colab": {
          "base_uri": "https://localhost:8080/"
        },
        "id": "SD2PNA8HbC0A",
        "outputId": "d1b761cc-4981-4b71-fa4c-6b31554c64e5"
      },
      "execution_count": 15,
      "outputs": [
        {
          "output_type": "execute_result",
          "data": {
            "text/plain": [
              "MODELYEAR                   0\n",
              "MAKE                        0\n",
              "MODEL                       0\n",
              "VEHICLECLASS                0\n",
              "ENGINESIZE                  0\n",
              "CYLINDERS                   0\n",
              "TRANSMISSION                0\n",
              "FUELTYPE                    0\n",
              "FUELCONSUMPTION_CITY        0\n",
              "FUELCONSUMPTION_HWY         0\n",
              "FUELCONSUMPTION_COMB        0\n",
              "FUELCONSUMPTION_COMB_MPG    0\n",
              "CO2EMISSIONS                0\n",
              "dtype: int64"
            ]
          },
          "metadata": {},
          "execution_count": 15
        }
      ]
    },
    {
      "cell_type": "code",
      "source": [
        "df.columns"
      ],
      "metadata": {
        "colab": {
          "base_uri": "https://localhost:8080/"
        },
        "id": "17pFweHCbHTf",
        "outputId": "911add44-2474-4ee0-c495-8ebc4e4cf2b2"
      },
      "execution_count": 19,
      "outputs": [
        {
          "output_type": "execute_result",
          "data": {
            "text/plain": [
              "Index(['MODELYEAR', 'MAKE', 'MODEL', 'VEHICLECLASS', 'ENGINESIZE', 'CYLINDERS',\n",
              "       'TRANSMISSION', 'FUELTYPE', 'FUELCONSUMPTION_CITY',\n",
              "       'FUELCONSUMPTION_HWY', 'FUELCONSUMPTION_COMB',\n",
              "       'FUELCONSUMPTION_COMB_MPG', 'CO2EMISSIONS'],\n",
              "      dtype='object')"
            ]
          },
          "metadata": {},
          "execution_count": 19
        }
      ]
    },
    {
      "cell_type": "code",
      "source": [
        "X=df[['ENGINESIZE']].values\n",
        "Y=df['CO2EMISSIONS']"
      ],
      "metadata": {
        "id": "RInUuaQobKfN"
      },
      "execution_count": 16,
      "outputs": []
    },
    {
      "cell_type": "code",
      "source": [
        "X"
      ],
      "metadata": {
        "colab": {
          "base_uri": "https://localhost:8080/"
        },
        "id": "fdhqhHSBbpY2",
        "outputId": "b9645744-6dce-4181-827e-1009135a3c51"
      },
      "execution_count": 20,
      "outputs": [
        {
          "output_type": "execute_result",
          "data": {
            "text/plain": [
              "array([[2. ],\n",
              "       [2.4],\n",
              "       [1.5],\n",
              "       ...,\n",
              "       [3. ],\n",
              "       [3.2],\n",
              "       [3.2]])"
            ]
          },
          "metadata": {},
          "execution_count": 20
        }
      ]
    },
    {
      "cell_type": "code",
      "source": [
        "Y"
      ],
      "metadata": {
        "colab": {
          "base_uri": "https://localhost:8080/"
        },
        "id": "gSKuqRKmbqu-",
        "outputId": "0f4a5376-b920-4719-cdf3-49c50279f54e"
      },
      "execution_count": 21,
      "outputs": [
        {
          "output_type": "execute_result",
          "data": {
            "text/plain": [
              "0       196\n",
              "1       221\n",
              "2       136\n",
              "3       255\n",
              "4       244\n",
              "       ... \n",
              "1062    271\n",
              "1063    264\n",
              "1064    271\n",
              "1065    260\n",
              "1066    294\n",
              "Name: CO2EMISSIONS, Length: 1067, dtype: int64"
            ]
          },
          "metadata": {},
          "execution_count": 21
        }
      ]
    },
    {
      "cell_type": "markdown",
      "source": [
        "Visualization"
      ],
      "metadata": {
        "id": "6SHroLShKmqB"
      }
    },
    {
      "cell_type": "code",
      "source": [
        "plt.scatter(X,Y, marker=\"+\",color='red')\n",
        "plt.xlabel(\"ENGINESIZE\")\n",
        "plt.ylabel(\"CO2EMISSIONS\")\n",
        "plt.title('TEST prediction')"
      ],
      "metadata": {
        "colab": {
          "base_uri": "https://localhost:8080/",
          "height": 312
        },
        "id": "g7zsQRDLbyLv",
        "outputId": "594d1fa3-2003-42c1-b5db-3ee0896304b9"
      },
      "execution_count": null,
      "outputs": [
        {
          "output_type": "execute_result",
          "data": {
            "text/plain": [
              "Text(0.5, 1.0, 'TEST prediction')"
            ]
          },
          "metadata": {},
          "execution_count": 10
        },
        {
          "output_type": "display_data",
          "data": {
            "text/plain": [
              "<Figure size 432x288 with 1 Axes>"
            ],
            "image/png": "[encoded data removed]"
          },
          "metadata": {
            "needs_background": "light"
          }
        }
      ]
    },
    {
      "cell_type": "code",
      "source": [
        "#Split the data into Training data & Testing Data\n",
        "from sklearn.model_selection import train_test_split\n",
        "X_train,X_test,Y_train,Y_test=train_test_split(X,Y,test_size=.25,random_state=1)"
      ],
      "metadata": {
        "id": "qNezf-3fcJKj"
      },
      "execution_count": null,
      "outputs": []
    },
    {
      "cell_type": "markdown",
      "source": [
        "here testing 25% data from the data set"
      ],
      "metadata": {
        "id": "TsNpgjg2NaGJ"
      }
    },
    {
      "cell_type": "code",
      "source": [
        "X_test"
      ],
      "metadata": {
        "colab": {
          "base_uri": "https://localhost:8080/"
        },
        "id": "xH0FnrR0cKbw",
        "outputId": "5d71d3d8-cf7d-4495-f601-682742552af5"
      },
      "execution_count": null,
      "outputs": [
        {
          "output_type": "execute_result",
          "data": {
            "text/plain": [
              "array([[3. ],\n",
              "       [1.4],\n",
              "       [2. ],\n",
              "       [2. ],\n",
              "       [4.6],\n",
              "       [3. ],\n",
              "       [2. ],\n",
              "       [1.8],\n",
              "       [3. ],\n",
              "       [2.4],\n",
              "       [2.4],\n",
              "       [3. ],\n",
              "       [2.4],\n",
              "       [5.2],\n",
              "       [2.5],\n",
              "       [2.5],\n",
              "       [1.6],\n",
              "       [4.4],\n",
              "       [3.5],\n",
              "       [2.4],\n",
              "       [6. ],\n",
              "       [2.5],\n",
              "       [3.7],\n",
              "       [3.5],\n",
              "       [3.7],\n",
              "       [3. ],\n",
              "       [1.2],\n",
              "       [5.5],\n",
              "       [1.6],\n",
              "       [2. ],\n",
              "       [3. ],\n",
              "       [5.2],\n",
              "       [3.5],\n",
              "       [5.3],\n",
              "       [4. ],\n",
              "       [5.3],\n",
              "       [6.2],\n",
              "       [1.5],\n",
              "       [4.2],\n",
              "       [3.3],\n",
              "       [3. ],\n",
              "       [6.3],\n",
              "       [2. ],\n",
              "       [3.6],\n",
              "       [3.7],\n",
              "       [2. ],\n",
              "       [1.4],\n",
              "       [1.4],\n",
              "       [2. ],\n",
              "       [3.4],\n",
              "       [1.6],\n",
              "       [5.7],\n",
              "       [4.3],\n",
              "       [6.2],\n",
              "       [2. ],\n",
              "       [3.7],\n",
              "       [2.5],\n",
              "       [5. ],\n",
              "       [3.7],\n",
              "       [1.6],\n",
              "       [2.4],\n",
              "       [2.7],\n",
              "       [2. ],\n",
              "       [2. ],\n",
              "       [2. ],\n",
              "       [1.8],\n",
              "       [3.7],\n",
              "       [3.6],\n",
              "       [2. ],\n",
              "       [1.6],\n",
              "       [2. ],\n",
              "       [2. ],\n",
              "       [3.6],\n",
              "       [3.5],\n",
              "       [5. ],\n",
              "       [6.2],\n",
              "       [2. ],\n",
              "       [6.2],\n",
              "       [2. ],\n",
              "       [3.7],\n",
              "       [6.2],\n",
              "       [1.4],\n",
              "       [5.7],\n",
              "       [5. ],\n",
              "       [2. ],\n",
              "       [6.2],\n",
              "       [3.8],\n",
              "       [3.5],\n",
              "       [2. ],\n",
              "       [3.6],\n",
              "       [5.3],\n",
              "       [4.4],\n",
              "       [2. ],\n",
              "       [3.5],\n",
              "       [2. ],\n",
              "       [2. ],\n",
              "       [5.3],\n",
              "       [6.7],\n",
              "       [2. ],\n",
              "       [4. ],\n",
              "       [2.4],\n",
              "       [6.2],\n",
              "       [2. ],\n",
              "       [3.5],\n",
              "       [1.6],\n",
              "       [4.4],\n",
              "       [1.8],\n",
              "       [5.3],\n",
              "       [1.8],\n",
              "       [2. ],\n",
              "       [2.4],\n",
              "       [6.2],\n",
              "       [5.5],\n",
              "       [4.4],\n",
              "       [5.3],\n",
              "       [3.5],\n",
              "       [2.5],\n",
              "       [2.5],\n",
              "       [5. ],\n",
              "       [2. ],\n",
              "       [3.8],\n",
              "       [4.3],\n",
              "       [2. ],\n",
              "       [3.7],\n",
              "       [2. ],\n",
              "       [2. ],\n",
              "       [5.7],\n",
              "       [5.7],\n",
              "       [4.7],\n",
              "       [2. ],\n",
              "       [2.4],\n",
              "       [1.6],\n",
              "       [3.6],\n",
              "       [3.6],\n",
              "       [5.3],\n",
              "       [4.7],\n",
              "       [5. ],\n",
              "       [1.6],\n",
              "       [5.3],\n",
              "       [2.4],\n",
              "       [1.4],\n",
              "       [2. ],\n",
              "       [2. ],\n",
              "       [1.2],\n",
              "       [4.7],\n",
              "       [2. ],\n",
              "       [5. ],\n",
              "       [5.4],\n",
              "       [5.3],\n",
              "       [3.6],\n",
              "       [2. ],\n",
              "       [3. ],\n",
              "       [5.9],\n",
              "       [5.6],\n",
              "       [3.5],\n",
              "       [2.5],\n",
              "       [3.5],\n",
              "       [6.2],\n",
              "       [1.8],\n",
              "       [2. ],\n",
              "       [1.6],\n",
              "       [3.6],\n",
              "       [4. ],\n",
              "       [1.4],\n",
              "       [3. ],\n",
              "       [5.7],\n",
              "       [2. ],\n",
              "       [3.5],\n",
              "       [5.7],\n",
              "       [3.5],\n",
              "       [3.7],\n",
              "       [4.7],\n",
              "       [4. ],\n",
              "       [1.6],\n",
              "       [5. ],\n",
              "       [3. ],\n",
              "       [6.2],\n",
              "       [3.4],\n",
              "       [1.5],\n",
              "       [6. ],\n",
              "       [4. ],\n",
              "       [5.3],\n",
              "       [3. ],\n",
              "       [1.4],\n",
              "       [3.5],\n",
              "       [3.5],\n",
              "       [2.4],\n",
              "       [3.5],\n",
              "       [3.5],\n",
              "       [1.4],\n",
              "       [2. ],\n",
              "       [1.6],\n",
              "       [2.4],\n",
              "       [6. ],\n",
              "       [4.4],\n",
              "       [3.6],\n",
              "       [3.5],\n",
              "       [3.4],\n",
              "       [5.7],\n",
              "       [4.4],\n",
              "       [3.5],\n",
              "       [3.8],\n",
              "       [3.5],\n",
              "       [3.6],\n",
              "       [3.6],\n",
              "       [2. ],\n",
              "       [1.6],\n",
              "       [3.8],\n",
              "       [2.4],\n",
              "       [3.6],\n",
              "       [1.6],\n",
              "       [3.8],\n",
              "       [3.7],\n",
              "       [2. ],\n",
              "       [3. ],\n",
              "       [6.4],\n",
              "       [2.5],\n",
              "       [4.8],\n",
              "       [4. ],\n",
              "       [1.5],\n",
              "       [1.6],\n",
              "       [2. ],\n",
              "       [3.2],\n",
              "       [3.6],\n",
              "       [6.2],\n",
              "       [3. ],\n",
              "       [4.4],\n",
              "       [2. ],\n",
              "       [3.5],\n",
              "       [3.5],\n",
              "       [3.5],\n",
              "       [1.6],\n",
              "       [1.4],\n",
              "       [5.7],\n",
              "       [5. ],\n",
              "       [2. ],\n",
              "       [1.4],\n",
              "       [3.6],\n",
              "       [5. ],\n",
              "       [5.6],\n",
              "       [4.8],\n",
              "       [2.5],\n",
              "       [2. ],\n",
              "       [6.2],\n",
              "       [5. ],\n",
              "       [3. ],\n",
              "       [1.6],\n",
              "       [3.4],\n",
              "       [2.4],\n",
              "       [3.7],\n",
              "       [5. ],\n",
              "       [3.7],\n",
              "       [3.5],\n",
              "       [5.7],\n",
              "       [1.6],\n",
              "       [3.2],\n",
              "       [5.2],\n",
              "       [4. ],\n",
              "       [5. ],\n",
              "       [3.6],\n",
              "       [3.5],\n",
              "       [3. ],\n",
              "       [4.3],\n",
              "       [5.6],\n",
              "       [1.8],\n",
              "       [3.5],\n",
              "       [2. ]])"
            ]
          },
          "metadata": {},
          "execution_count": 12
        }
      ]
    },
    {
      "cell_type": "code",
      "source": [
        "Y_test"
      ],
      "metadata": {
        "colab": {
          "base_uri": "https://localhost:8080/"
        },
        "id": "tjdnh7MVcS3t",
        "outputId": "c2f30981-1057-4177-8ea6-2e7782c8ee08"
      },
      "execution_count": null,
      "outputs": [
        {
          "output_type": "execute_result",
          "data": {
            "text/plain": [
              "133     274\n",
              "340     200\n",
              "948     196\n",
              "704     161\n",
              "661     320\n",
              "       ... \n",
              "238     269\n",
              "546     345\n",
              "773     205\n",
              "354     264\n",
              "1041    186\n",
              "Name: CO2EMISSIONS, Length: 267, dtype: int64"
            ]
          },
          "metadata": {},
          "execution_count": 13
        }
      ]
    },
    {
      "cell_type": "code",
      "source": [
        "from sklearn.linear_model import LinearRegression"
      ],
      "metadata": {
        "id": "4XwYMTeMcTl1"
      },
      "execution_count": null,
      "outputs": []
    },
    {
      "cell_type": "code",
      "source": [
        "reg= LinearRegression()"
      ],
      "metadata": {
        "id": "oWJ9fY2ecW0H"
      },
      "execution_count": null,
      "outputs": []
    },
    {
      "cell_type": "code",
      "source": [
        "reg.fit(X_train, Y_train)"
      ],
      "metadata": {
        "colab": {
          "base_uri": "https://localhost:8080/"
        },
        "id": "bpEjjGMNcZyQ",
        "outputId": "ad69034a-3bee-4405-ff0c-a29de4a0db27"
      },
      "execution_count": null,
      "outputs": [
        {
          "output_type": "execute_result",
          "data": {
            "text/plain": [
              "LinearRegression()"
            ]
          },
          "metadata": {},
          "execution_count": 16
        }
      ]
    },
    {
      "cell_type": "code",
      "source": [
        "reg.predict(X_test)"
      ],
      "metadata": {
        "colab": {
          "base_uri": "https://localhost:8080/"
        },
        "id": "L-7pd_IAccz4",
        "outputId": "e18f2d86-6216-4d74-fa80-ff7cc64f2e8b"
      },
      "execution_count": null,
      "outputs": [
        {
          "output_type": "execute_result",
          "data": {
            "text/plain": [
              "array([242.88082083, 179.60282889, 203.33207587, 203.33207587,\n",
              "       306.15881277, 242.88082083, 203.33207587, 195.42232688,\n",
              "       242.88082083, 219.15157386, 219.15157386, 242.88082083,\n",
              "       219.15157386, 329.88805975, 223.10644835, 223.10644835,\n",
              "       187.51257789, 298.24906378, 262.65519331, 219.15157386,\n",
              "       361.52705572, 223.10644835, 270.56494231, 262.65519331,\n",
              "       270.56494231, 242.88082083, 171.6930799 , 341.75268324,\n",
              "       187.51257789, 203.33207587, 242.88082083, 329.88805975,\n",
              "       262.65519331, 333.84293425, 282.42956579, 333.84293425,\n",
              "       369.43680471, 183.55770339, 290.33931479, 254.74544432,\n",
              "       242.88082083, 373.39167921, 203.33207587, 266.61006781,\n",
              "       270.56494231, 203.33207587, 179.60282889, 179.60282889,\n",
              "       203.33207587, 258.70031882, 187.51257789, 349.66243223,\n",
              "       294.29418928, 369.43680471, 203.33207587, 270.56494231,\n",
              "       223.10644835, 321.97831076, 270.56494231, 187.51257789,\n",
              "       219.15157386, 231.01619734, 203.33207587, 203.33207587,\n",
              "       203.33207587, 195.42232688, 270.56494231, 266.61006781,\n",
              "       203.33207587, 187.51257789, 203.33207587, 203.33207587,\n",
              "       266.61006781, 262.65519331, 321.97831076, 369.43680471,\n",
              "       203.33207587, 369.43680471, 203.33207587, 270.56494231,\n",
              "       369.43680471, 179.60282889, 349.66243223, 321.97831076,\n",
              "       203.33207587, 369.43680471, 274.5198168 , 262.65519331,\n",
              "       203.33207587, 266.61006781, 333.84293425, 298.24906378,\n",
              "       203.33207587, 262.65519331, 203.33207587, 203.33207587,\n",
              "       333.84293425, 389.21117719, 203.33207587, 282.42956579,\n",
              "       219.15157386, 369.43680471, 203.33207587, 262.65519331,\n",
              "       187.51257789, 298.24906378, 195.42232688, 333.84293425,\n",
              "       195.42232688, 203.33207587, 219.15157386, 369.43680471,\n",
              "       341.75268324, 298.24906378, 333.84293425, 262.65519331,\n",
              "       223.10644835, 223.10644835, 321.97831076, 203.33207587,\n",
              "       274.5198168 , 294.29418928, 203.33207587, 270.56494231,\n",
              "       203.33207587, 203.33207587, 349.66243223, 349.66243223,\n",
              "       310.11368727, 203.33207587, 219.15157386, 187.51257789,\n",
              "       266.61006781, 266.61006781, 333.84293425, 310.11368727,\n",
              "       321.97831076, 187.51257789, 333.84293425, 219.15157386,\n",
              "       179.60282889, 203.33207587, 203.33207587, 171.6930799 ,\n",
              "       310.11368727, 203.33207587, 321.97831076, 337.79780874,\n",
              "       333.84293425, 266.61006781, 203.33207587, 242.88082083,\n",
              "       357.57218122, 345.70755773, 262.65519331, 223.10644835,\n",
              "       262.65519331, 369.43680471, 195.42232688, 203.33207587,\n",
              "       187.51257789, 266.61006781, 282.42956579, 179.60282889,\n",
              "       242.88082083, 349.66243223, 203.33207587, 262.65519331,\n",
              "       349.66243223, 262.65519331, 270.56494231, 310.11368727,\n",
              "       282.42956579, 187.51257789, 321.97831076, 242.88082083,\n",
              "       369.43680471, 258.70031882, 183.55770339, 361.52705572,\n",
              "       282.42956579, 333.84293425, 242.88082083, 179.60282889,\n",
              "       262.65519331, 262.65519331, 219.15157386, 262.65519331,\n",
              "       262.65519331, 179.60282889, 203.33207587, 187.51257789,\n",
              "       219.15157386, 361.52705572, 298.24906378, 266.61006781,\n",
              "       262.65519331, 258.70031882, 349.66243223, 298.24906378,\n",
              "       262.65519331, 274.5198168 , 262.65519331, 266.61006781,\n",
              "       266.61006781, 203.33207587, 187.51257789, 274.5198168 ,\n",
              "       219.15157386, 266.61006781, 187.51257789, 274.5198168 ,\n",
              "       270.56494231, 203.33207587, 242.88082083, 377.3465537 ,\n",
              "       223.10644835, 314.06856176, 282.42956579, 183.55770339,\n",
              "       187.51257789, 203.33207587, 250.79056983, 266.61006781,\n",
              "       369.43680471, 242.88082083, 298.24906378, 203.33207587,\n",
              "       262.65519331, 262.65519331, 262.65519331, 187.51257789,\n",
              "       179.60282889, 349.66243223, 321.97831076, 203.33207587,\n",
              "       179.60282889, 266.61006781, 321.97831076, 345.70755773,\n",
              "       314.06856176, 223.10644835, 203.33207587, 369.43680471,\n",
              "       321.97831076, 242.88082083, 187.51257789, 258.70031882,\n",
              "       219.15157386, 270.56494231, 321.97831076, 270.56494231,\n",
              "       262.65519331, 349.66243223, 187.51257789, 250.79056983,\n",
              "       329.88805975, 282.42956579, 321.97831076, 266.61006781,\n",
              "       262.65519331, 242.88082083, 294.29418928, 345.70755773,\n",
              "       195.42232688, 262.65519331, 203.33207587])"
            ]
          },
          "metadata": {},
          "execution_count": 17
        }
      ]
    },
    {
      "cell_type": "code",
      "source": [
        "plt.plot(df['ENGINESIZE'],reg.predict(df[['ENGINESIZE']]))"
      ],
      "metadata": {
        "colab": {
          "base_uri": "https://localhost:8080/",
          "height": 317
        },
        "id": "bOYS0El9ckPF",
        "outputId": "b5bd7445-66eb-46dd-c9ca-4361069dbbeb"
      },
      "execution_count": null,
      "outputs": [
        {
          "output_type": "stream",
          "name": "stderr",
          "text": [
            "/usr/local/lib/python3.7/dist-packages/sklearn/base.py:444: UserWarning: X has feature names, but LinearRegression was fitted without feature names\n",
            "  f\"X has feature names, but {self.__class__.__name__} was fitted without\"\n"
          ]
        },
        {
          "output_type": "execute_result",
          "data": {
            "text/plain": [
              "[<matplotlib.lines.Line2D at 0x7fe6499b6390>]"
            ]
          },
          "metadata": {},
          "execution_count": 18
        },
        {
          "output_type": "display_data",
          "data": {
            "text/plain": [
              "<Figure size 432x288 with 1 Axes>"
            ],
            "image/png": "[encoded data removed]"
          },
          "metadata": {
            "needs_background": "light"
          }
        }
      ]
    },
    {
      "cell_type": "code",
      "source": [
        "plt.scatter(X,Y, marker='+',color='red')\n",
        "plt.xlabel('ENGINESIZE')\n",
        "plt.ylabel('CO2EMISSIONS')\n",
        "plt.title('TEST prediction')\n",
        "plt.plot(df['ENGINESIZE'],reg.predict(df[['ENGINESIZE']]))"
      ],
      "metadata": {
        "colab": {
          "base_uri": "https://localhost:8080/",
          "height": 347
        },
        "id": "TftK8MXkdAof",
        "outputId": "ae30fc22-7d3a-421a-dec5-ddc570cd6959"
      },
      "execution_count": null,
      "outputs": [
        {
          "output_type": "stream",
          "name": "stderr",
          "text": [
            "/usr/local/lib/python3.7/dist-packages/sklearn/base.py:444: UserWarning: X has feature names, but LinearRegression was fitted without feature names\n",
            "  f\"X has feature names, but {self.__class__.__name__} was fitted without\"\n"
          ]
        },
        {
          "output_type": "execute_result",
          "data": {
            "text/plain": [
              "[<matplotlib.lines.Line2D at 0x7fe649946750>]"
            ]
          },
          "metadata": {},
          "execution_count": 19
        },
        {
          "output_type": "display_data",
          "data": {
            "text/plain": [
              "<Figure size 432x288 with 1 Axes>"
            ],
            "image/png": "[encoded data removed]"
          },
          "metadata": {
            "needs_background": "light"
          }
        }
      ]
    },
    {
      "cell_type": "code",
      "source": [
        "reg.intercept_"
      ],
      "metadata": {
        "colab": {
          "base_uri": "https://localhost:8080/"
        },
        "id": "BCXimMNLevnp",
        "outputId": "3f30a100-6a75-4df1-f9d7-4ed2e43b2997"
      },
      "execution_count": null,
      "outputs": [
        {
          "output_type": "execute_result",
          "data": {
            "text/plain": [
              "124.23458594672331"
            ]
          },
          "metadata": {},
          "execution_count": 20
        }
      ]
    },
    {
      "cell_type": "code",
      "source": [
        "reg.coef_"
      ],
      "metadata": {
        "colab": {
          "base_uri": "https://localhost:8080/"
        },
        "id": "wsGp02XjewV2",
        "outputId": "998cc43b-edce-4bc2-e836-41b24986346f"
      },
      "execution_count": null,
      "outputs": [
        {
          "output_type": "execute_result",
          "data": {
            "text/plain": [
              "array([39.54874496])"
            ]
          },
          "metadata": {},
          "execution_count": 21
        }
      ]
    },
    {
      "cell_type": "code",
      "source": [
        "reg.score(X_test, Y_test)"
      ],
      "metadata": {
        "colab": {
          "base_uri": "https://localhost:8080/"
        },
        "id": "_7jD1aV0fGkS",
        "outputId": "1cb4291d-34b3-4492-f289-b5deb671175e"
      },
      "execution_count": null,
      "outputs": [
        {
          "output_type": "execute_result",
          "data": {
            "text/plain": [
              "0.7633265438534859"
            ]
          },
          "metadata": {},
          "execution_count": 24
        }
      ]
    },
    {
      "cell_type": "markdown",
      "source": [
        "**reg.intercept_ it means w0 so, w0= 124.2345**\n",
        "**and reg.coef_ it means w1 so w1= 39.5487**\n",
        "**Accuracy of linear reg model is 0.763326 **"
      ],
      "metadata": {
        "id": "IbC5fN_tLuLU"
      }
    }
  ]
}